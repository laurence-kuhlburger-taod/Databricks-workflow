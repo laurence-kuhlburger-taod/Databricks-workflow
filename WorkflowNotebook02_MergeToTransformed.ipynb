{
 "cells": [
  {
   "cell_type": "code",
   "execution_count": 0,
   "metadata": {
    "application/vnd.databricks.v1+cell": {
     "cellMetadata": {
      "byteLimit": 2048000,
      "implicitDf": true,
      "rowLimit": 10000
     },
     "inputWidgets": {},
     "nuid": "950f0650-359b-4463-a312-363daee52afa",
     "showTitle": false,
     "tableResultSettingsMap": {},
     "title": ""
    }
   },
   "outputs": [],
   "source": [
    "%sql\n",
    "--DROP TABLE uc_lk.silver.transformed_dimsalesterritory;"
   ]
  },
  {
   "cell_type": "code",
   "execution_count": 0,
   "metadata": {
    "application/vnd.databricks.v1+cell": {
     "cellMetadata": {
      "byteLimit": 2048000,
      "rowLimit": 10000
     },
     "inputWidgets": {},
     "nuid": "1eda8b00-5bc6-4c42-8094-f3fb83739f6e",
     "showTitle": false,
     "tableResultSettingsMap": {},
     "title": ""
    }
   },
   "outputs": [],
   "source": [
    "def delta_check(table_name: str) -> bool:\n",
    "    \"\"\"\n",
    "    Checks if the _delta_log exists for a given table in the uc_lk.silver schema.\n",
    "    \n",
    "    Args:\n",
    "    table_name: The name of the table to check.\n",
    "    \n",
    "    Returns:\n",
    "    bool: True if _delta_log exists, False otherwise.\n",
    "    \"\"\"\n",
    "    # Construct the path to the _delta_log directory in the table's location\n",
    "\n",
    "    return spark.catalog.tableExists(\"uc_lk.silver.{}\".format(table_name))\n",
    "\n"
   ]
  },
  {
   "cell_type": "code",
   "execution_count": 0,
   "metadata": {
    "application/vnd.databricks.v1+cell": {
     "cellMetadata": {
      "byteLimit": 2048000,
      "rowLimit": 10000
     },
     "inputWidgets": {},
     "nuid": "85cfbe84-ccb2-44cc-a48f-0d4d671ffddd",
     "showTitle": false,
     "tableResultSettingsMap": {},
     "title": ""
    }
   },
   "outputs": [],
   "source": [
    "trans_table_exists = delta_check(\"transformed_dimsalesterritory\")\n",
    "print(trans_table_exists)"
   ]
  },
  {
   "cell_type": "code",
   "execution_count": 0,
   "metadata": {
    "application/vnd.databricks.v1+cell": {
     "cellMetadata": {
      "byteLimit": 2048000,
      "rowLimit": 10000
     },
     "inputWidgets": {},
     "nuid": "ecd3cde2-c841-4d46-bf61-f7e39e270507",
     "showTitle": false,
     "tableResultSettingsMap": {},
     "title": ""
    }
   },
   "outputs": [],
   "source": [
    "\n",
    "if (trans_table_exists == True):\n",
    "    print(\"Transformed table does exist, will merge raw table.\")\n",
    "else:\n",
    "    print(\"Transformed table does not exist, copying raw table.\")\n",
    "    spark.sql('''CREATE TABLE IF NOT EXISTS uc_lk.silver.transformed_dimsalesterritory AS SELECT * FROM uc_lk.bronze.raw_dimsalesterritory''')\n",
    "    dbutils.notebook.exit(\"First load complete. Notebook stopped\")\n"
   ]
  },
  {
   "cell_type": "code",
   "execution_count": 0,
   "metadata": {
    "application/vnd.databricks.v1+cell": {
     "cellMetadata": {
      "byteLimit": 2048000,
      "implicitDf": true,
      "rowLimit": 10000
     },
     "inputWidgets": {},
     "nuid": "8c3e6987-e05b-49f0-94fe-a3080a311cee",
     "showTitle": false,
     "tableResultSettingsMap": {},
     "title": ""
    }
   },
   "outputs": [],
   "source": [
    "%sql\n",
    "\n",
    "MERGE INTO uc_lk.silver.transformed_dimsalesterritory transformed\n",
    "USING uc_lk.bronze.raw_dimsalesterritory raw\n",
    "ON raw.SalesTerritoryKey = transformed.SalesTerritoryKey\n",
    "WHEN MATCHED THEN\n",
    "  UPDATE SET *\n",
    "WHEN NOT MATCHED THEN\n",
    "  INSERT *"
   ]
  }
 ],
 "metadata": {
  "application/vnd.databricks.v1+notebook": {
   "computePreferences": null,
   "dashboards": [],
   "environmentMetadata": {
    "base_environment": "",
    "environment_version": "2"
   },
   "inputWidgetPreferences": null,
   "language": "python",
   "notebookMetadata": {
    "mostRecentlyExecutedCommandWithImplicitDF": {
     "commandId": 2003850421977892,
     "dataframes": [
      "_sqldf"
     ]
    },
    "pythonIndentUnit": 4
   },
   "notebookName": "WorkflowNotebook02_MergeToTransformed",
   "widgets": {}
  },
  "language_info": {
   "name": "python"
  }
 },
 "nbformat": 4,
 "nbformat_minor": 0
}
