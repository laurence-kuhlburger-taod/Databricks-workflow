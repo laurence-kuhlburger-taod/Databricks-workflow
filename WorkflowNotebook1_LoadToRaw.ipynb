{
 "cells": [
  {
   "cell_type": "code",
   "execution_count": 0,
   "metadata": {
    "application/vnd.databricks.v1+cell": {
     "cellMetadata": {
      "byteLimit": 2048000,
      "rowLimit": 10000
     },
     "inputWidgets": {},
     "nuid": "345ecf04-a3df-4450-a2d5-3f4ebc6ceb63",
     "showTitle": false,
     "tableResultSettingsMap": {},
     "title": ""
    }
   },
   "outputs": [],
   "source": [
    "dbutils.widgets.dropdown(\"environment\", \"Dev\", [\"Dev\", \"Test\", \"Staging\", \"Prod\"])\n"
   ]
  },
  {
   "cell_type": "code",
   "execution_count": 0,
   "metadata": {
    "application/vnd.databricks.v1+cell": {
     "cellMetadata": {
      "byteLimit": 2048000,
      "rowLimit": 10000
     },
     "inputWidgets": {},
     "nuid": "11819c41-6d92-4202-94a3-fd1ec58d0b5f",
     "showTitle": false,
     "tableResultSettingsMap": {},
     "title": ""
    }
   },
   "outputs": [],
   "source": [
    "env = dbutils.widgets.get(\"environment\")\n",
    "print(f\"This job is running in the {env} environment.\")"
   ]
  },
  {
   "cell_type": "code",
   "execution_count": 0,
   "metadata": {
    "application/vnd.databricks.v1+cell": {
     "cellMetadata": {},
     "inputWidgets": {},
     "nuid": "df8a009b-373a-478c-a86c-dcba1c82ad58",
     "showTitle": false,
     "tableResultSettingsMap": {},
     "title": ""
    }
   },
   "outputs": [],
   "source": [
    "raw_folder_path = \"/Volumes/uc_lk/raw/raw/incremental_load_data/\"\n",
    "processed_folder_path = \"uc_lk.bronze\"\n",
    "silver_folder_path = \"uc_lk.silver\"\n",
    "\n"
   ]
  },
  {
   "cell_type": "code",
   "execution_count": 0,
   "metadata": {
    "application/vnd.databricks.v1+cell": {
     "cellMetadata": {
      "byteLimit": 2048000,
      "implicitDf": true,
      "rowLimit": 10000
     },
     "inputWidgets": {},
     "nuid": "75ca595f-48ee-4852-bd81-7c845345ba2a",
     "showTitle": false,
     "tableResultSettingsMap": {},
     "title": ""
    }
   },
   "outputs": [],
   "source": [
    "dimsalesterritory = spark.read.csv(\"/Volumes/uc_lk/raw/dim_sales/DimSalesTerritory.csv\",  # Ensure the correct path format\n",
    "                                 header=True,  # Assuming the CSV file has a header\n",
    "                                 inferSchema=True  # Apply the predefined schema\n",
    "                                 )"
   ]
  },
  {
   "cell_type": "code",
   "execution_count": 0,
   "metadata": {
    "application/vnd.databricks.v1+cell": {
     "cellMetadata": {
      "byteLimit": 2048000,
      "rowLimit": 10000
     },
     "inputWidgets": {},
     "nuid": "798c5990-22f2-4338-beb8-0e7f2d6fa83e",
     "showTitle": false,
     "tableResultSettingsMap": {},
     "title": ""
    }
   },
   "outputs": [],
   "source": [
    "dimsalesterritory.write.mode(\"overwrite\").saveAsTable(\"uc_lk.bronze.raw_dimsalesterritory\")"
   ]
  },
  {
   "cell_type": "code",
   "execution_count": 0,
   "metadata": {
    "application/vnd.databricks.v1+cell": {
     "cellMetadata": {
      "byteLimit": 2048000,
      "rowLimit": 10000
     },
     "inputWidgets": {},
     "nuid": "aafb07d6-2136-41b2-b6e9-f2c33dacd4a3",
     "showTitle": false,
     "tableResultSettingsMap": {},
     "title": ""
    }
   },
   "outputs": [],
   "source": [
    "%sh ls"
   ]
  }
 ],
 "metadata": {
  "application/vnd.databricks.v1+notebook": {
   "computePreferences": null,
   "dashboards": [],
   "environmentMetadata": {
    "base_environment": "",
    "environment_version": "2"
   },
   "inputWidgetPreferences": null,
   "language": "python",
   "notebookMetadata": {
    "mostRecentlyExecutedCommandWithImplicitDF": {
     "commandId": -1,
     "dataframes": [
      "_sqldf"
     ]
    },
    "pythonIndentUnit": 4
   },
   "notebookName": "WorkflowNotebook1_LoadToRaw",
   "widgets": {
    "environment": {
     "currentValue": "Dev",
     "nuid": "1419823e-a270-4c0d-b781-b46209135d48",
     "typedWidgetInfo": {
      "autoCreated": false,
      "defaultValue": "Dev",
      "label": null,
      "name": "environment",
      "options": {
       "widgetDisplayType": "Dropdown",
       "choices": [
        "Dev",
        "Test",
        "Staging",
        "Prod"
       ],
       "fixedDomain": true,
       "multiselect": false
      },
      "parameterDataType": "String"
     },
     "widgetInfo": {
      "widgetType": "dropdown",
      "defaultValue": "Dev",
      "label": null,
      "name": "environment",
      "options": {
       "widgetType": "dropdown",
       "autoCreated": null,
       "choices": [
        "Dev",
        "Test",
        "Staging",
        "Prod"
       ]
      }
     }
    }
   }
  },
  "language_info": {
   "name": "python"
  }
 },
 "nbformat": 4,
 "nbformat_minor": 0
}
